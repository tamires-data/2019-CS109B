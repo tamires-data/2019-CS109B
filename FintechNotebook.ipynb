{
  "nbformat": 4,
  "nbformat_minor": 0,
  "metadata": {
    "colab": {
      "name": "FintechNotebook.ipynb",
      "provenance": [],
      "authorship_tag": "ABX9TyOZ2o/ibQOROqm5wziNUitD",
      "include_colab_link": true
    },
    "kernelspec": {
      "name": "python3",
      "display_name": "Python 3"
    },
    "language_info": {
      "name": "python"
    }
  },
  "cells": [
    {
      "cell_type": "markdown",
      "metadata": {
        "id": "view-in-github",
        "colab_type": "text"
      },
      "source": [
        "<a href=\"https://colab.research.google.com/github/tamires-finance/2019-CS109B/blob/master/FintechNotebook.ipynb\" target=\"_parent\"><img src=\"https://colab.research.google.com/assets/colab-badge.svg\" alt=\"Open In Colab\"/></a>"
      ]
    },
    {
      "cell_type": "code",
      "metadata": {
        "colab": {
          "base_uri": "https://localhost:8080/",
          "height": 454
        },
        "id": "xwwR_MWC2Nk6",
        "outputId": "e1158abc-4aeb-40ec-dc77-10253175c374"
      },
      "source": [
        " import pandas as pd\n",
        " raw = pd.read_csv('http://hilpisch.com/pyalgo_eikon_eod_data.csv',\n",
        " index_col=0, parse_dates=True).dropna()\n",
        " raw"
      ],
      "execution_count": 3,
      "outputs": [
        {
          "output_type": "execute_result",
          "data": {
            "text/html": [
              "<div>\n",
              "<style scoped>\n",
              "    .dataframe tbody tr th:only-of-type {\n",
              "        vertical-align: middle;\n",
              "    }\n",
              "\n",
              "    .dataframe tbody tr th {\n",
              "        vertical-align: top;\n",
              "    }\n",
              "\n",
              "    .dataframe thead th {\n",
              "        text-align: right;\n",
              "    }\n",
              "</style>\n",
              "<table border=\"1\" class=\"dataframe\">\n",
              "  <thead>\n",
              "    <tr style=\"text-align: right;\">\n",
              "      <th></th>\n",
              "      <th>AAPL.O</th>\n",
              "      <th>MSFT.O</th>\n",
              "      <th>INTC.O</th>\n",
              "      <th>AMZN.O</th>\n",
              "      <th>GS.N</th>\n",
              "      <th>SPY</th>\n",
              "      <th>.SPX</th>\n",
              "      <th>.VIX</th>\n",
              "      <th>EUR=</th>\n",
              "      <th>XAU=</th>\n",
              "      <th>GDX</th>\n",
              "      <th>GLD</th>\n",
              "    </tr>\n",
              "    <tr>\n",
              "      <th>Date</th>\n",
              "      <th></th>\n",
              "      <th></th>\n",
              "      <th></th>\n",
              "      <th></th>\n",
              "      <th></th>\n",
              "      <th></th>\n",
              "      <th></th>\n",
              "      <th></th>\n",
              "      <th></th>\n",
              "      <th></th>\n",
              "      <th></th>\n",
              "      <th></th>\n",
              "    </tr>\n",
              "  </thead>\n",
              "  <tbody>\n",
              "    <tr>\n",
              "      <th>2010-01-04</th>\n",
              "      <td>30.572827</td>\n",
              "      <td>30.950</td>\n",
              "      <td>20.88</td>\n",
              "      <td>133.90</td>\n",
              "      <td>173.08</td>\n",
              "      <td>113.33</td>\n",
              "      <td>1132.99</td>\n",
              "      <td>20.04</td>\n",
              "      <td>1.4411</td>\n",
              "      <td>1120.0000</td>\n",
              "      <td>47.71</td>\n",
              "      <td>109.80</td>\n",
              "    </tr>\n",
              "    <tr>\n",
              "      <th>2010-01-05</th>\n",
              "      <td>30.625684</td>\n",
              "      <td>30.960</td>\n",
              "      <td>20.87</td>\n",
              "      <td>134.69</td>\n",
              "      <td>176.14</td>\n",
              "      <td>113.63</td>\n",
              "      <td>1136.52</td>\n",
              "      <td>19.35</td>\n",
              "      <td>1.4368</td>\n",
              "      <td>1118.6500</td>\n",
              "      <td>48.17</td>\n",
              "      <td>109.70</td>\n",
              "    </tr>\n",
              "    <tr>\n",
              "      <th>2010-01-06</th>\n",
              "      <td>30.138541</td>\n",
              "      <td>30.770</td>\n",
              "      <td>20.80</td>\n",
              "      <td>132.25</td>\n",
              "      <td>174.26</td>\n",
              "      <td>113.71</td>\n",
              "      <td>1137.14</td>\n",
              "      <td>19.16</td>\n",
              "      <td>1.4412</td>\n",
              "      <td>1138.5000</td>\n",
              "      <td>49.34</td>\n",
              "      <td>111.51</td>\n",
              "    </tr>\n",
              "    <tr>\n",
              "      <th>2010-01-07</th>\n",
              "      <td>30.082827</td>\n",
              "      <td>30.452</td>\n",
              "      <td>20.60</td>\n",
              "      <td>130.00</td>\n",
              "      <td>177.67</td>\n",
              "      <td>114.19</td>\n",
              "      <td>1141.69</td>\n",
              "      <td>19.06</td>\n",
              "      <td>1.4318</td>\n",
              "      <td>1131.9000</td>\n",
              "      <td>49.10</td>\n",
              "      <td>110.82</td>\n",
              "    </tr>\n",
              "    <tr>\n",
              "      <th>2010-01-08</th>\n",
              "      <td>30.282827</td>\n",
              "      <td>30.660</td>\n",
              "      <td>20.83</td>\n",
              "      <td>133.52</td>\n",
              "      <td>174.31</td>\n",
              "      <td>114.57</td>\n",
              "      <td>1144.98</td>\n",
              "      <td>18.13</td>\n",
              "      <td>1.4412</td>\n",
              "      <td>1136.1000</td>\n",
              "      <td>49.84</td>\n",
              "      <td>111.37</td>\n",
              "    </tr>\n",
              "    <tr>\n",
              "      <th>...</th>\n",
              "      <td>...</td>\n",
              "      <td>...</td>\n",
              "      <td>...</td>\n",
              "      <td>...</td>\n",
              "      <td>...</td>\n",
              "      <td>...</td>\n",
              "      <td>...</td>\n",
              "      <td>...</td>\n",
              "      <td>...</td>\n",
              "      <td>...</td>\n",
              "      <td>...</td>\n",
              "      <td>...</td>\n",
              "    </tr>\n",
              "    <tr>\n",
              "      <th>2019-12-24</th>\n",
              "      <td>284.270000</td>\n",
              "      <td>157.380</td>\n",
              "      <td>59.41</td>\n",
              "      <td>1789.21</td>\n",
              "      <td>229.91</td>\n",
              "      <td>321.23</td>\n",
              "      <td>3223.38</td>\n",
              "      <td>12.67</td>\n",
              "      <td>1.1087</td>\n",
              "      <td>1498.8100</td>\n",
              "      <td>28.66</td>\n",
              "      <td>141.27</td>\n",
              "    </tr>\n",
              "    <tr>\n",
              "      <th>2019-12-26</th>\n",
              "      <td>289.910000</td>\n",
              "      <td>158.670</td>\n",
              "      <td>59.82</td>\n",
              "      <td>1868.77</td>\n",
              "      <td>231.21</td>\n",
              "      <td>322.94</td>\n",
              "      <td>3239.91</td>\n",
              "      <td>12.65</td>\n",
              "      <td>1.1096</td>\n",
              "      <td>1511.2979</td>\n",
              "      <td>29.08</td>\n",
              "      <td>142.38</td>\n",
              "    </tr>\n",
              "    <tr>\n",
              "      <th>2019-12-27</th>\n",
              "      <td>289.800000</td>\n",
              "      <td>158.960</td>\n",
              "      <td>60.08</td>\n",
              "      <td>1869.80</td>\n",
              "      <td>230.66</td>\n",
              "      <td>322.86</td>\n",
              "      <td>3240.02</td>\n",
              "      <td>13.43</td>\n",
              "      <td>1.1175</td>\n",
              "      <td>1510.4167</td>\n",
              "      <td>28.87</td>\n",
              "      <td>142.33</td>\n",
              "    </tr>\n",
              "    <tr>\n",
              "      <th>2019-12-30</th>\n",
              "      <td>291.520000</td>\n",
              "      <td>157.590</td>\n",
              "      <td>59.62</td>\n",
              "      <td>1846.89</td>\n",
              "      <td>229.80</td>\n",
              "      <td>321.08</td>\n",
              "      <td>3221.29</td>\n",
              "      <td>14.82</td>\n",
              "      <td>1.1197</td>\n",
              "      <td>1515.1230</td>\n",
              "      <td>29.49</td>\n",
              "      <td>142.63</td>\n",
              "    </tr>\n",
              "    <tr>\n",
              "      <th>2019-12-31</th>\n",
              "      <td>293.650000</td>\n",
              "      <td>157.700</td>\n",
              "      <td>59.85</td>\n",
              "      <td>1847.84</td>\n",
              "      <td>229.93</td>\n",
              "      <td>321.86</td>\n",
              "      <td>3230.78</td>\n",
              "      <td>13.78</td>\n",
              "      <td>1.1210</td>\n",
              "      <td>1517.0100</td>\n",
              "      <td>29.28</td>\n",
              "      <td>142.90</td>\n",
              "    </tr>\n",
              "  </tbody>\n",
              "</table>\n",
              "<p>2516 rows × 12 columns</p>\n",
              "</div>"
            ],
            "text/plain": [
              "                AAPL.O   MSFT.O  INTC.O  ...       XAU=    GDX     GLD\n",
              "Date                                     ...                          \n",
              "2010-01-04   30.572827   30.950   20.88  ...  1120.0000  47.71  109.80\n",
              "2010-01-05   30.625684   30.960   20.87  ...  1118.6500  48.17  109.70\n",
              "2010-01-06   30.138541   30.770   20.80  ...  1138.5000  49.34  111.51\n",
              "2010-01-07   30.082827   30.452   20.60  ...  1131.9000  49.10  110.82\n",
              "2010-01-08   30.282827   30.660   20.83  ...  1136.1000  49.84  111.37\n",
              "...                ...      ...     ...  ...        ...    ...     ...\n",
              "2019-12-24  284.270000  157.380   59.41  ...  1498.8100  28.66  141.27\n",
              "2019-12-26  289.910000  158.670   59.82  ...  1511.2979  29.08  142.38\n",
              "2019-12-27  289.800000  158.960   60.08  ...  1510.4167  28.87  142.33\n",
              "2019-12-30  291.520000  157.590   59.62  ...  1515.1230  29.49  142.63\n",
              "2019-12-31  293.650000  157.700   59.85  ...  1517.0100  29.28  142.90\n",
              "\n",
              "[2516 rows x 12 columns]"
            ]
          },
          "metadata": {
            "tags": []
          },
          "execution_count": 3
        }
      ]
    },
    {
      "cell_type": "code",
      "metadata": {
        "colab": {
          "base_uri": "https://localhost:8080/"
        },
        "id": "R2eyB4K53i97",
        "outputId": "c18e256b-3e67-47ed-eab0-693c1b57d4f3"
      },
      "source": [
        "raw.info()"
      ],
      "execution_count": 4,
      "outputs": [
        {
          "output_type": "stream",
          "text": [
            "<class 'pandas.core.frame.DataFrame'>\n",
            "DatetimeIndex: 2516 entries, 2010-01-04 to 2019-12-31\n",
            "Data columns (total 12 columns):\n",
            " #   Column  Non-Null Count  Dtype  \n",
            "---  ------  --------------  -----  \n",
            " 0   AAPL.O  2516 non-null   float64\n",
            " 1   MSFT.O  2516 non-null   float64\n",
            " 2   INTC.O  2516 non-null   float64\n",
            " 3   AMZN.O  2516 non-null   float64\n",
            " 4   GS.N    2516 non-null   float64\n",
            " 5   SPY     2516 non-null   float64\n",
            " 6   .SPX    2516 non-null   float64\n",
            " 7   .VIX    2516 non-null   float64\n",
            " 8   EUR=    2516 non-null   float64\n",
            " 9   XAU=    2516 non-null   float64\n",
            " 10  GDX     2516 non-null   float64\n",
            " 11  GLD     2516 non-null   float64\n",
            "dtypes: float64(12)\n",
            "memory usage: 255.5 KB\n"
          ],
          "name": "stdout"
        }
      ]
    },
    {
      "cell_type": "code",
      "metadata": {
        "id": "1fKko1Tb3-cA"
      },
      "source": [
        "symbol = 'EUR='\n"
      ],
      "execution_count": 6,
      "outputs": []
    },
    {
      "cell_type": "code",
      "metadata": {
        "colab": {
          "base_uri": "https://localhost:8080/",
          "height": 454
        },
        "id": "xvQDMA6I4M0d",
        "outputId": "f35e8a17-91ce-4ab1-e0ea-4367a29051b9"
      },
      "source": [
        "data = pd.DataFrame(raw[symbol]) \n",
        "data"
      ],
      "execution_count": 9,
      "outputs": [
        {
          "output_type": "execute_result",
          "data": {
            "text/html": [
              "<div>\n",
              "<style scoped>\n",
              "    .dataframe tbody tr th:only-of-type {\n",
              "        vertical-align: middle;\n",
              "    }\n",
              "\n",
              "    .dataframe tbody tr th {\n",
              "        vertical-align: top;\n",
              "    }\n",
              "\n",
              "    .dataframe thead th {\n",
              "        text-align: right;\n",
              "    }\n",
              "</style>\n",
              "<table border=\"1\" class=\"dataframe\">\n",
              "  <thead>\n",
              "    <tr style=\"text-align: right;\">\n",
              "      <th></th>\n",
              "      <th>EUR=</th>\n",
              "    </tr>\n",
              "    <tr>\n",
              "      <th>Date</th>\n",
              "      <th></th>\n",
              "    </tr>\n",
              "  </thead>\n",
              "  <tbody>\n",
              "    <tr>\n",
              "      <th>2010-01-04</th>\n",
              "      <td>1.4411</td>\n",
              "    </tr>\n",
              "    <tr>\n",
              "      <th>2010-01-05</th>\n",
              "      <td>1.4368</td>\n",
              "    </tr>\n",
              "    <tr>\n",
              "      <th>2010-01-06</th>\n",
              "      <td>1.4412</td>\n",
              "    </tr>\n",
              "    <tr>\n",
              "      <th>2010-01-07</th>\n",
              "      <td>1.4318</td>\n",
              "    </tr>\n",
              "    <tr>\n",
              "      <th>2010-01-08</th>\n",
              "      <td>1.4412</td>\n",
              "    </tr>\n",
              "    <tr>\n",
              "      <th>...</th>\n",
              "      <td>...</td>\n",
              "    </tr>\n",
              "    <tr>\n",
              "      <th>2019-12-24</th>\n",
              "      <td>1.1087</td>\n",
              "    </tr>\n",
              "    <tr>\n",
              "      <th>2019-12-26</th>\n",
              "      <td>1.1096</td>\n",
              "    </tr>\n",
              "    <tr>\n",
              "      <th>2019-12-27</th>\n",
              "      <td>1.1175</td>\n",
              "    </tr>\n",
              "    <tr>\n",
              "      <th>2019-12-30</th>\n",
              "      <td>1.1197</td>\n",
              "    </tr>\n",
              "    <tr>\n",
              "      <th>2019-12-31</th>\n",
              "      <td>1.1210</td>\n",
              "    </tr>\n",
              "  </tbody>\n",
              "</table>\n",
              "<p>2516 rows × 1 columns</p>\n",
              "</div>"
            ],
            "text/plain": [
              "              EUR=\n",
              "Date              \n",
              "2010-01-04  1.4411\n",
              "2010-01-05  1.4368\n",
              "2010-01-06  1.4412\n",
              "2010-01-07  1.4318\n",
              "2010-01-08  1.4412\n",
              "...            ...\n",
              "2019-12-24  1.1087\n",
              "2019-12-26  1.1096\n",
              "2019-12-27  1.1175\n",
              "2019-12-30  1.1197\n",
              "2019-12-31  1.1210\n",
              "\n",
              "[2516 rows x 1 columns]"
            ]
          },
          "metadata": {
            "tags": []
          },
          "execution_count": 9
        }
      ]
    },
    {
      "cell_type": "code",
      "metadata": {
        "colab": {
          "base_uri": "https://localhost:8080/",
          "height": 454
        },
        "id": "EvtwRy4w4flk",
        "outputId": "4076b75f-2433-47e7-9801-5efd6c511b47"
      },
      "source": [
        "data.rename(columns={symbol: 'price'}, inplace=True) \n",
        "data"
      ],
      "execution_count": 13,
      "outputs": [
        {
          "output_type": "execute_result",
          "data": {
            "text/html": [
              "<div>\n",
              "<style scoped>\n",
              "    .dataframe tbody tr th:only-of-type {\n",
              "        vertical-align: middle;\n",
              "    }\n",
              "\n",
              "    .dataframe tbody tr th {\n",
              "        vertical-align: top;\n",
              "    }\n",
              "\n",
              "    .dataframe thead th {\n",
              "        text-align: right;\n",
              "    }\n",
              "</style>\n",
              "<table border=\"1\" class=\"dataframe\">\n",
              "  <thead>\n",
              "    <tr style=\"text-align: right;\">\n",
              "      <th></th>\n",
              "      <th>price</th>\n",
              "    </tr>\n",
              "    <tr>\n",
              "      <th>Date</th>\n",
              "      <th></th>\n",
              "    </tr>\n",
              "  </thead>\n",
              "  <tbody>\n",
              "    <tr>\n",
              "      <th>2010-01-04</th>\n",
              "      <td>1.4411</td>\n",
              "    </tr>\n",
              "    <tr>\n",
              "      <th>2010-01-05</th>\n",
              "      <td>1.4368</td>\n",
              "    </tr>\n",
              "    <tr>\n",
              "      <th>2010-01-06</th>\n",
              "      <td>1.4412</td>\n",
              "    </tr>\n",
              "    <tr>\n",
              "      <th>2010-01-07</th>\n",
              "      <td>1.4318</td>\n",
              "    </tr>\n",
              "    <tr>\n",
              "      <th>2010-01-08</th>\n",
              "      <td>1.4412</td>\n",
              "    </tr>\n",
              "    <tr>\n",
              "      <th>...</th>\n",
              "      <td>...</td>\n",
              "    </tr>\n",
              "    <tr>\n",
              "      <th>2019-12-24</th>\n",
              "      <td>1.1087</td>\n",
              "    </tr>\n",
              "    <tr>\n",
              "      <th>2019-12-26</th>\n",
              "      <td>1.1096</td>\n",
              "    </tr>\n",
              "    <tr>\n",
              "      <th>2019-12-27</th>\n",
              "      <td>1.1175</td>\n",
              "    </tr>\n",
              "    <tr>\n",
              "      <th>2019-12-30</th>\n",
              "      <td>1.1197</td>\n",
              "    </tr>\n",
              "    <tr>\n",
              "      <th>2019-12-31</th>\n",
              "      <td>1.1210</td>\n",
              "    </tr>\n",
              "  </tbody>\n",
              "</table>\n",
              "<p>2516 rows × 1 columns</p>\n",
              "</div>"
            ],
            "text/plain": [
              "             price\n",
              "Date              \n",
              "2010-01-04  1.4411\n",
              "2010-01-05  1.4368\n",
              "2010-01-06  1.4412\n",
              "2010-01-07  1.4318\n",
              "2010-01-08  1.4412\n",
              "...            ...\n",
              "2019-12-24  1.1087\n",
              "2019-12-26  1.1096\n",
              "2019-12-27  1.1175\n",
              "2019-12-30  1.1197\n",
              "2019-12-31  1.1210\n",
              "\n",
              "[2516 rows x 1 columns]"
            ]
          },
          "metadata": {
            "tags": []
          },
          "execution_count": 13
        }
      ]
    },
    {
      "cell_type": "code",
      "metadata": {
        "id": "WkL1XWTe6jdv"
      },
      "source": [
        "import os\n",
        "import random\n",
        "import numpy as np \n",
        "from pylab import mpl, plt \n",
        "plt.style.use('seaborn')\n",
        "mpl.rcParams['savefig.dpi'] = 300\n",
        "mpl.rcParams['font.family'] = 'serif'\n",
        "os.environ['PYTHONHASHSEED'] = '0'\n"
      ],
      "execution_count": 16,
      "outputs": []
    },
    {
      "cell_type": "code",
      "metadata": {
        "colab": {
          "base_uri": "https://localhost:8080/"
        },
        "id": "M5g_Dq8Z60_f",
        "outputId": "81226300-869f-45a4-c7d2-076694f8e3b0"
      },
      "source": [
        "x = np.linspace(0, 10)\n",
        "x"
      ],
      "execution_count": 18,
      "outputs": [
        {
          "output_type": "execute_result",
          "data": {
            "text/plain": [
              "array([ 0.        ,  0.20408163,  0.40816327,  0.6122449 ,  0.81632653,\n",
              "        1.02040816,  1.2244898 ,  1.42857143,  1.63265306,  1.83673469,\n",
              "        2.04081633,  2.24489796,  2.44897959,  2.65306122,  2.85714286,\n",
              "        3.06122449,  3.26530612,  3.46938776,  3.67346939,  3.87755102,\n",
              "        4.08163265,  4.28571429,  4.48979592,  4.69387755,  4.89795918,\n",
              "        5.10204082,  5.30612245,  5.51020408,  5.71428571,  5.91836735,\n",
              "        6.12244898,  6.32653061,  6.53061224,  6.73469388,  6.93877551,\n",
              "        7.14285714,  7.34693878,  7.55102041,  7.75510204,  7.95918367,\n",
              "        8.16326531,  8.36734694,  8.57142857,  8.7755102 ,  8.97959184,\n",
              "        9.18367347,  9.3877551 ,  9.59183673,  9.79591837, 10.        ])"
            ]
          },
          "metadata": {
            "tags": []
          },
          "execution_count": 18
        }
      ]
    },
    {
      "cell_type": "code",
      "metadata": {
        "id": "aovCbkZV68Uk"
      },
      "source": [
        "def set_seeds(seed=100):\n",
        " random.seed(seed)\n",
        " np.random.seed(seed)\n",
        " set_seeds()\n"
      ],
      "execution_count": 19,
      "outputs": []
    },
    {
      "cell_type": "code",
      "metadata": {
        "id": "6y4BuwHt7LmK"
      },
      "source": [
        " y = x + np.random.standard_normal(len(x)) "
      ],
      "execution_count": 20,
      "outputs": []
    },
    {
      "cell_type": "code",
      "metadata": {
        "id": "ceNFjFMl7UJ2"
      },
      "source": [
        "reg = np.polyfit(x, y, deg=1)"
      ],
      "execution_count": 22,
      "outputs": []
    },
    {
      "cell_type": "code",
      "metadata": {
        "colab": {
          "base_uri": "https://localhost:8080/",
          "height": 373
        },
        "id": "oVbZGuAg7f9W",
        "outputId": "735e5a43-3d89-479f-90e6-2d9f1e49c938"
      },
      "source": [
        "plt.figure(figsize=(10, 6)) \n",
        "plt.plot(x, y, 'bo', label='data') \n",
        "plt.plot(x, np.polyval(reg, x), 'r', lw=2.5,\n",
        "label='linear regression') \n",
        "plt.legend(loc=0); "
      ],
      "execution_count": 24,
      "outputs": [
        {
          "output_type": "display_data",
          "data": {
            "image/png": "[encoded data removed]",
            "text/plain": [
              "<Figure size 720x432 with 1 Axes>"
            ]
          },
          "metadata": {
            "tags": []
          }
        }
      ]
    },
    {
      "cell_type": "markdown",
      "metadata": {
        "id": "Hp6p9-cR90VS"
      },
      "source": [
        "Try to predict tomorrow’s index level given the index level of today, yesterday, the day before, etc. The number of days used as input is gen‐\n",
        "erally called lags. Using today’s index level and the two more from before therefore translates into three lags."
      ]
    },
    {
      "cell_type": "code",
      "metadata": {
        "id": "fgUpQEYu-EWv"
      },
      "source": [
        "x = np.arange(12)"
      ],
      "execution_count": 26,
      "outputs": []
    },
    {
      "cell_type": "code",
      "metadata": {
        "id": "kRRgGOaK-YWk"
      },
      "source": [
        "lags = 3"
      ],
      "execution_count": 27,
      "outputs": []
    },
    {
      "cell_type": "code",
      "metadata": {
        "id": "VtjB5V2A-mzQ"
      },
      "source": [
        "m = np.zeros((lags + 1, len(x) - lags)) "
      ],
      "execution_count": 28,
      "outputs": []
    },
    {
      "cell_type": "code",
      "metadata": {
        "id": "tiQZUled-s-t"
      },
      "source": [
        "m[lags] = x[lags:] \n",
        "for i in range(lags): \n",
        "  m[i] = x[i:i - lags] "
      ],
      "execution_count": 31,
      "outputs": []
    },
    {
      "cell_type": "code",
      "metadata": {
        "colab": {
          "base_uri": "https://localhost:8080/"
        },
        "id": "qTjvoyuk_RvF",
        "outputId": "9c232b74-4511-4e7b-ae8c-759a90783f43"
      },
      "source": [
        "m"
      ],
      "execution_count": 33,
      "outputs": [
        {
          "output_type": "execute_result",
          "data": {
            "text/plain": [
              "array([[ 0.,  1.,  2.,  3.,  4.,  5.,  6.,  7.,  8.],\n",
              "       [ 1.,  2.,  3.,  4.,  5.,  6.,  7.,  8.,  9.],\n",
              "       [ 2.,  3.,  4.,  5.,  6.,  7.,  8.,  9., 10.],\n",
              "       [ 3.,  4.,  5.,  6.,  7.,  8.,  9., 10., 11.]])"
            ]
          },
          "metadata": {
            "tags": []
          },
          "execution_count": 33
        }
      ]
    },
    {
      "cell_type": "code",
      "metadata": {
        "colab": {
          "base_uri": "https://localhost:8080/"
        },
        "id": "XEQ7Sf7O_Xe9",
        "outputId": "c38f6816-169d-49dc-9e00-8de2541942e1"
      },
      "source": [
        "m.T"
      ],
      "execution_count": 34,
      "outputs": [
        {
          "output_type": "execute_result",
          "data": {
            "text/plain": [
              "array([[ 0.,  1.,  2.,  3.],\n",
              "       [ 1.,  2.,  3.,  4.],\n",
              "       [ 2.,  3.,  4.,  5.],\n",
              "       [ 3.,  4.,  5.,  6.],\n",
              "       [ 4.,  5.,  6.,  7.],\n",
              "       [ 5.,  6.,  7.,  8.],\n",
              "       [ 6.,  7.,  8.,  9.],\n",
              "       [ 7.,  8.,  9., 10.],\n",
              "       [ 8.,  9., 10., 11.]])"
            ]
          },
          "metadata": {
            "tags": []
          },
          "execution_count": 34
        }
      ]
    },
    {
      "cell_type": "code",
      "metadata": {
        "id": "6zcTfq8qAIDJ"
      },
      "source": [
        "reg = np.linalg.lstsq(m[:lags].T, m[lags], rcond=None)[0] "
      ],
      "execution_count": 35,
      "outputs": []
    },
    {
      "cell_type": "code",
      "metadata": {
        "colab": {
          "base_uri": "https://localhost:8080/"
        },
        "id": "KDt8aFwOAJoB",
        "outputId": "a23104fa-d373-46b7-ea6e-d75170a12494"
      },
      "source": [
        "reg"
      ],
      "execution_count": 36,
      "outputs": [
        {
          "output_type": "execute_result",
          "data": {
            "text/plain": [
              "array([-0.66666667,  0.33333333,  1.33333333])"
            ]
          },
          "metadata": {
            "tags": []
          },
          "execution_count": 36
        }
      ]
    },
    {
      "cell_type": "code",
      "metadata": {
        "id": "xMaBCzJMAZGb"
      },
      "source": [
        "cols = []\n",
        "for lag in range(1, lags + 1):\n",
        " col = f'lag_{lag}'\n",
        " data[col] = data['price'].shift(lag)\n",
        " cols.append(col)\n",
        " data.dropna(inplace=True)\n"
      ],
      "execution_count": 37,
      "outputs": []
    }
  ]
}