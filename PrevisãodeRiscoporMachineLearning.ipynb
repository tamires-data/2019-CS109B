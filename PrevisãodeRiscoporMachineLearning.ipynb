{
  "nbformat": 4,
  "nbformat_minor": 0,
  "metadata": {
    "kernelspec": {
      "display_name": "Python 3",
      "language": "python",
      "name": "python3"
    },
    "language_info": {
      "codemirror_mode": {
        "name": "ipython",
        "version": 3
      },
      "file_extension": ".py",
      "mimetype": "text/x-python",
      "name": "python",
      "nbconvert_exporter": "python",
      "pygments_lexer": "ipython3",
      "version": "3.7.3"
    },
    "colab": {
      "name": "PrevisãodeRiscoporMachineLearning.ipynb",
      "provenance": [],
      "collapsed_sections": [],
      "include_colab_link": true
    }
  },
  "cells": [
    {
      "cell_type": "markdown",
      "metadata": {
        "id": "view-in-github",
        "colab_type": "text"
      },
      "source": [
        "<a href=\"https://colab.research.google.com/github/tamires-finance/2019-CS109B/blob/master/Previs%C3%A3odeRiscoporMachineLearning.ipynb\" target=\"_parent\"><img src=\"https://colab.research.google.com/assets/colab-badge.svg\" alt=\"Open In Colab\"/></a>"
      ]
    },
    {
      "cell_type": "code",
      "metadata": {
        "_cell_guid": "b1076dfc-b9ad-4769-8c92-a6c4dae69d19",
        "_uuid": "8f2839f25d086af736a60e9eeb907d3b93b6e0e5",
        "id": "fUj148k83noV"
      },
      "source": [
        "# Previsão de Risco dos atributos de um empréstimo por algoritmo de machine learning \n",
        "import numpy as np\n",
        "import pandas as pd \n",
        "from copy import deepcopy\n",
        "import random\n",
        "\n",
        "\n",
        "from sklearn.preprocessing import LabelEncoder\n",
        "\n",
        "\n",
        "import os\n",
        "\n",
        "import warnings\n",
        "warnings.filterwarnings('ignore')\n",
        "\n",
        "\n",
        "import matplotlib.pyplot as plt\n",
        "import seaborn as sns\n",
        "\n",
        "from sklearn.model_selection import train_test_split\n",
        "\n",
        "\n",
        "from sklearn import datasets\n",
        "from sklearn.model_selection import train_test_split\n",
        "from sklearn.tree import DecisionTreeClassifier\n",
        "from sklearn import tree\n",
        "\n",
        "from sklearn.model_selection import StratifiedKFold\n",
        "from sklearn.model_selection import cross_val_score, cross_val_predict\n",
        "from sklearn.preprocessing import StandardScaler, MinMaxScaler\n",
        "\n",
        "from sklearn.linear_model import LogisticRegression\n",
        "\n",
        "from sklearn.metrics import accuracy_score, f1_score, precision_score, recall_score, classification_report, confusion_matrix\n",
        "from sklearn.metrics import roc_curve, auc\n",
        "from sklearn.metrics import matthews_corrcoef\n",
        "from sklearn.model_selection import cross_validate\n",
        "from sklearn.metrics import make_scorer\n",
        "\n",
        "from sklearn.linear_model import LogisticRegression\n",
        "from sklearn.metrics import accuracy_score\n",
        "from sklearn.metrics import matthews_corrcoef\n",
        "from sklearn.tree import DecisionTreeClassifier\n",
        "from xgboost import XGBClassifier\n",
        "from sklearn.model_selection import KFold\n",
        "from sklearn.model_selection import GridSearchCV\n",
        "from sklearn.model_selection import RandomizedSearchCV\n",
        "\n",
        "\n",
        "from sklearn.feature_selection import SelectFromModel\n",
        "from sklearn.ensemble import RandomForestClassifier\n",
        "\n",
        "\n",
        "\n",
        "from sklearn.model_selection import cross_val_score\n",
        "\n",
        "from collections import defaultdict\n",
        "%matplotlib inline\n",
        "\n",
        "import warnings\n",
        "warnings.filterwarnings(\"ignore\")"
      ],
      "execution_count": 2,
      "outputs": []
    },
    {
      "cell_type": "code",
      "metadata": {
        "id": "xGsMvxEE3noX"
      },
      "source": [
        "df = pd.read_csv(\"Case.csv\")"
      ],
      "execution_count": 4,
      "outputs": []
    },
    {
      "cell_type": "code",
      "metadata": {
        "colab": {
          "base_uri": "https://localhost:8080/",
          "height": 205
        },
        "id": "-j5bM7kt3noY",
        "outputId": "afd3ce2d-6839-4c05-eab4-17908ebe186a"
      },
      "source": [
        "df.head()"
      ],
      "execution_count": 5,
      "outputs": [
        {
          "output_type": "execute_result",
          "data": {
            "text/html": [
              "<div>\n",
              "<style scoped>\n",
              "    .dataframe tbody tr th:only-of-type {\n",
              "        vertical-align: middle;\n",
              "    }\n",
              "\n",
              "    .dataframe tbody tr th {\n",
              "        vertical-align: top;\n",
              "    }\n",
              "\n",
              "    .dataframe thead th {\n",
              "        text-align: right;\n",
              "    }\n",
              "</style>\n",
              "<table border=\"1\" class=\"dataframe\">\n",
              "  <thead>\n",
              "    <tr style=\"text-align: right;\">\n",
              "      <th></th>\n",
              "      <th>idade</th>\n",
              "      <th>experiencia</th>\n",
              "      <th>tempo_endereco</th>\n",
              "      <th>renda</th>\n",
              "      <th>debito_renda</th>\n",
              "      <th>cred_deb</th>\n",
              "      <th>outros_debitos</th>\n",
              "      <th>mau</th>\n",
              "    </tr>\n",
              "  </thead>\n",
              "  <tbody>\n",
              "    <tr>\n",
              "      <th>0</th>\n",
              "      <td>41</td>\n",
              "      <td>17</td>\n",
              "      <td>12</td>\n",
              "      <td>35.9</td>\n",
              "      <td>11.90</td>\n",
              "      <td>0.504108</td>\n",
              "      <td>3.767992</td>\n",
              "      <td>0</td>\n",
              "    </tr>\n",
              "    <tr>\n",
              "      <th>1</th>\n",
              "      <td>30</td>\n",
              "      <td>13</td>\n",
              "      <td>8</td>\n",
              "      <td>46.7</td>\n",
              "      <td>17.88</td>\n",
              "      <td>1.352694</td>\n",
              "      <td>6.997266</td>\n",
              "      <td>0</td>\n",
              "    </tr>\n",
              "    <tr>\n",
              "      <th>2</th>\n",
              "      <td>40</td>\n",
              "      <td>15</td>\n",
              "      <td>14</td>\n",
              "      <td>61.8</td>\n",
              "      <td>10.64</td>\n",
              "      <td>3.438997</td>\n",
              "      <td>3.136523</td>\n",
              "      <td>0</td>\n",
              "    </tr>\n",
              "    <tr>\n",
              "      <th>3</th>\n",
              "      <td>41</td>\n",
              "      <td>15</td>\n",
              "      <td>14</td>\n",
              "      <td>72.0</td>\n",
              "      <td>29.67</td>\n",
              "      <td>4.165668</td>\n",
              "      <td>17.196732</td>\n",
              "      <td>0</td>\n",
              "    </tr>\n",
              "    <tr>\n",
              "      <th>4</th>\n",
              "      <td>57</td>\n",
              "      <td>7</td>\n",
              "      <td>37</td>\n",
              "      <td>25.6</td>\n",
              "      <td>15.86</td>\n",
              "      <td>1.498199</td>\n",
              "      <td>2.561961</td>\n",
              "      <td>0</td>\n",
              "    </tr>\n",
              "  </tbody>\n",
              "</table>\n",
              "</div>"
            ],
            "text/plain": [
              "   idade  experiencia  tempo_endereco  ...  cred_deb  outros_debitos  mau\n",
              "0     41           17              12  ...  0.504108        3.767992    0\n",
              "1     30           13               8  ...  1.352694        6.997266    0\n",
              "2     40           15              14  ...  3.438997        3.136523    0\n",
              "3     41           15              14  ...  4.165668       17.196732    0\n",
              "4     57            7              37  ...  1.498199        2.561961    0\n",
              "\n",
              "[5 rows x 8 columns]"
            ]
          },
          "metadata": {
            "tags": []
          },
          "execution_count": 5
        }
      ]
    },
    {
      "cell_type": "code",
      "metadata": {
        "id": "XyVKxFXJ3noa"
      },
      "source": [
        "# Reamostrando variáveis \n",
        "df_bal = deepcopy(df) # Please note the difference between shallow copy and deep copy in Python\n",
        "df_bal.dropna(inplace=True) # Drop missing values\n",
        "\n",
        "\n",
        "random.seed(1234)\n",
        "\n",
        "\n",
        "count_class_0, count_class_1 = df_bal['mau'].value_counts()\n",
        "\n",
        "\n",
        "df_class_0 = df_bal[df_bal['mau'] == 0]\n",
        "df_class_1 = df_bal[df_bal['mau'] == 1]\n",
        "\n",
        "\n",
        "df_class_1_over = df_class_1.sample(count_class_0, replace=True, random_state=1234)\n",
        "df_bal = pd.concat([df_class_1_over, df_class_0], axis=0)\n",
        "\n",
        "df_bal.reset_index(inplace = True)"
      ],
      "execution_count": 6,
      "outputs": []
    },
    {
      "cell_type": "code",
      "metadata": {
        "colab": {
          "base_uri": "https://localhost:8080/"
        },
        "id": "i7aqj-2_3nob",
        "outputId": "d6b6a919-dfd9-475d-850e-16d11c2b51a9"
      },
      "source": [
        "df_bal['mau'].value_counts()"
      ],
      "execution_count": 7,
      "outputs": [
        {
          "output_type": "execute_result",
          "data": {
            "text/plain": [
              "1    3744\n",
              "0    3744\n",
              "Name: mau, dtype: int64"
            ]
          },
          "metadata": {
            "tags": []
          },
          "execution_count": 7
        }
      ]
    },
    {
      "cell_type": "code",
      "metadata": {
        "colab": {
          "base_uri": "https://localhost:8080/"
        },
        "id": "Zjo0ALIJ3nob",
        "outputId": "cb98bd91-2f26-4df4-c4bb-0f7ebc72e2cf"
      },
      "source": [
        "df_bal.dtypes.value_counts()"
      ],
      "execution_count": 8,
      "outputs": [
        {
          "output_type": "execute_result",
          "data": {
            "text/plain": [
              "int64      5\n",
              "float64    4\n",
              "dtype: int64"
            ]
          },
          "metadata": {
            "tags": []
          },
          "execution_count": 8
        }
      ]
    },
    {
      "cell_type": "code",
      "metadata": {
        "id": "4BTU5vth3noc"
      },
      "source": [
        "# \n",
        "# Diferenciação entre variáveis numéricas e categóricas \n",
        "numerical = df_bal.apply(pd.Series.nunique, axis = 0)[df_bal.apply(pd.Series.nunique, axis = 0).values>10].index\n",
        "categorical = df_bal.apply(pd.Series.nunique, axis = 0)[df_bal.apply(pd.Series.nunique, axis = 0).values<=10].index\n",
        "numerical = [i for i in numerical if i != 'index']\n",
        "categorical = [i for i in categorical if i != 'bad_loans']"
      ],
      "execution_count": 12,
      "outputs": []
    },
    {
      "cell_type": "code",
      "metadata": {
        "colab": {
          "base_uri": "https://localhost:8080/"
        },
        "id": "VHnDZ1Gz3nod",
        "outputId": "274448df-edab-4a79-a2af-a76f3fcee6f1"
      },
      "source": [
        " df_bal.apply(pd.Series.nunique, axis = 0)[df_bal.apply(pd.Series.nunique, axis = 0).values<=10]"
      ],
      "execution_count": 13,
      "outputs": [
        {
          "output_type": "execute_result",
          "data": {
            "text/plain": [
              "mau    2\n",
              "dtype: int64"
            ]
          },
          "metadata": {
            "tags": []
          },
          "execution_count": 13
        }
      ]
    },
    {
      "cell_type": "code",
      "metadata": {
        "scrolled": true,
        "colab": {
          "base_uri": "https://localhost:8080/"
        },
        "id": "OMKL_d_L3nod",
        "outputId": "ea8353ec-c82b-46f3-912d-f68b97cf0592"
      },
      "source": [
        "numerical"
      ],
      "execution_count": 14,
      "outputs": [
        {
          "output_type": "execute_result",
          "data": {
            "text/plain": [
              "['idade',\n",
              " 'experiencia',\n",
              " 'tempo_endereco',\n",
              " 'renda',\n",
              " 'debito_renda',\n",
              " 'cred_deb',\n",
              " 'outros_debitos']"
            ]
          },
          "metadata": {
            "tags": []
          },
          "execution_count": 14
        }
      ]
    },
    {
      "cell_type": "code",
      "metadata": {
        "id": "-sQNxMmu3noe"
      },
      "source": [
        "import seaborn as sns\n",
        "sns.set(style=\"darkgrid\")"
      ],
      "execution_count": 15,
      "outputs": []
    },
    {
      "cell_type": "code",
      "metadata": {
        "colab": {
          "base_uri": "https://localhost:8080/",
          "height": 285
        },
        "id": "AzVzEmNt3nof",
        "outputId": "5f5cbf08-4505-44b8-92d1-d86b2e979858"
      },
      "source": [
        "#Frequência de variáveis categóricas \n",
        "for var in categorical:\n",
        "    plt.figure()\n",
        "    ax = sns.countplot(x=var, data=df_bal)"
      ],
      "execution_count": 16,
      "outputs": [
        {
          "output_type": "display_data",
          "data": {
            "image/png": "[encoded data removed]",
            "text/plain": [
              "<Figure size 432x288 with 1 Axes>"
            ]
          },
          "metadata": {
            "tags": []
          }
        }
      ]
    },
    {
      "cell_type": "markdown",
      "metadata": {
        "id": "r5J6Mz-i3noi"
      },
      "source": [
        "### Explorando variáveis "
      ]
    },
    {
      "cell_type": "code",
      "metadata": {
        "colab": {
          "base_uri": "https://localhost:8080/",
          "height": 1000
        },
        "id": "FbcfMTj13noi",
        "outputId": "e6ce2805-951b-4cb6-b2c3-35625f275ed7"
      },
      "source": [
        "quantile_list = [0,0.25,0.5,0.75,1]\n",
        "#quantile_labels = ['0-25Q','25-50Q','50-75Q','75-100Q']\n",
        "df_bin = pd.DataFrame()\n",
        "df_bin['mau'] = df_bal['mau']\n",
        "for var in numerical:\n",
        "    df_bin[var]=pd.qcut(df_bal[var],q=quantile_list,duplicates='drop')\n",
        "    plt.figure()\n",
        "    ax = sns.countplot(x=var, hue='mau',data=df_bin)"
      ],
      "execution_count": 17,
      "outputs": [
        {
          "output_type": "display_data",
          "data": {
            "image/png": "[encoded data removed]",
            "text/plain": [
              "<Figure size 432x288 with 1 Axes>"
            ]
          },
          "metadata": {
            "tags": []
          }
        },
        {
          "output_type": "display_data",
          "data": {
            "image/png": "[encoded data removed]",
            "text/plain": [
              "<Figure size 432x288 with 1 Axes>"
            ]
          },
          "metadata": {
            "tags": []
          }
        },
        {
          "output_type": "display_data",
          "data": {
            "image/png": "[encoded data removed]",
            "text/plain": [
              "<Figure size 432x288 with 1 Axes>"
            ]
          },
          "metadata": {
            "tags": []
          }
        },
        {
          "output_type": "display_data",
          "data": {
            "image/png": "[encoded data removed]",
            "text/plain": [
              "<Figure size 432x288 with 1 Axes>"
            ]
          },
          "metadata": {
            "tags": []
          }
        },
        {
          "output_type": "display_data",
          "data": {
            "image/png": "[encoded data removed]",
            "text/plain": [
              "<Figure size 432x288 with 1 Axes>"
            ]
          },
          "metadata": {
            "tags": []
          }
        },
        {
          "output_type": "display_data",
          "data": {
            "image/png": "[encoded data removed]",
            "text/plain": [
              "<Figure size 432x288 with 1 Axes>"
            ]
          },
          "metadata": {
            "tags": []
          }
        },
        {
          "output_type": "display_data",
          "data": {
            "image/png": "[encoded data removed]",
            "text/plain": [
              "<Figure size 432x288 with 1 Axes>"
            ]
          },
          "metadata": {
            "tags": []
          }
        }
      ]
    },
    {
      "cell_type": "markdown",
      "metadata": {
        "id": "eY_3nyMs3noj"
      },
      "source": [
        "## Seleção de variáveis\n",
        "\n"
      ]
    },
    {
      "cell_type": "markdown",
      "metadata": {
        "id": "cXVOx5aj3nok"
      },
      "source": [
        "### 1) Teste chi2 "
      ]
    },
    {
      "cell_type": "code",
      "metadata": {
        "id": "M9l-4Orf3nok"
      },
      "source": [
        "import scipy.stats as stats\n",
        "from scipy.stats import chi2_contingency\n",
        "\n",
        "class ChiSquare:\n",
        "    def __init__(self, dataframe):\n",
        "        self.df = dataframe\n",
        "        self.p = None #P-Value\n",
        "        self.chi2 = None #Chi Test Statistic\n",
        "        self.dof = None\n",
        "        \n",
        "        self.dfObserved = None\n",
        "        self.dfExpected = None\n",
        "        \n",
        "    def _chisquare_result(self, colX, alpha):\n",
        "        result = \"\"\n",
        "        if self.p<alpha:\n",
        "            result=\"{0} is IMPORTANT for Prediction\".format(colX)\n",
        "        else:\n",
        "            result=\"{0} is NOT an important predictor. (Discard {0} from model)\".format(colX)\n",
        "\n",
        "        print(result)\n",
        "        \n",
        "    def TestIndependence(self,colX,colY, alpha=0.05):\n",
        "        X = self.df[colX].astype(str)\n",
        "        Y = self.df[colY].astype(str)\n",
        "        \n",
        "        self.dfObserved = pd.crosstab(Y,X) \n",
        "        chi2, p, dof, expected = stats.chi2_contingency(self.dfObserved.values)\n",
        "        self.p = p\n",
        "        self.chi2 = chi2\n",
        "        self.dof = dof \n",
        "        \n",
        "        self.dfExpected = pd.DataFrame(expected, columns=self.dfObserved.columns, index = self.dfObserved.index)\n",
        "        if self.p<alpha:\n",
        "            return True # accept variable\n",
        "        else:\n",
        "            return False"
      ],
      "execution_count": 18,
      "outputs": []
    },
    {
      "cell_type": "code",
      "metadata": {
        "id": "1RzYHnQp3nol"
      },
      "source": [
        "accept_cT = []\n",
        "reject_cT = []"
      ],
      "execution_count": 19,
      "outputs": []
    },
    {
      "cell_type": "code",
      "metadata": {
        "id": "kPcQLyg53nol"
      },
      "source": [
        "#Initialize ChiSquare Class\n",
        "cT = ChiSquare(df_bal)\n",
        "\n",
        "#Feature Selection\n",
        "for var in categorical:\n",
        "    status = cT.TestIndependence(colX=var,colY=\"mau\")  \n",
        "    if status:\n",
        "        accept_cT.append(var)\n",
        "    else:\n",
        "        reject_cT.append(var)"
      ],
      "execution_count": 20,
      "outputs": []
    },
    {
      "cell_type": "code",
      "metadata": {
        "id": "5yvS3w5r3nom"
      },
      "source": [
        "#Initialize ChiSquare Class\n",
        "cT = ChiSquare(df_bin)\n",
        "\n",
        "#Feature Selection\n",
        "for var in numerical:\n",
        "    status = cT.TestIndependence(colX=var,colY=\"mau\")  \n",
        "    if status:\n",
        "        accept_cT.append(var)\n",
        "    else:\n",
        "        reject_cT.append(var)"
      ],
      "execution_count": 21,
      "outputs": []
    },
    {
      "cell_type": "code",
      "metadata": {
        "colab": {
          "base_uri": "https://localhost:8080/"
        },
        "id": "qAsR7A6l3non",
        "outputId": "61cfb5c2-11e9-4bbd-980a-7d91e968962b"
      },
      "source": [
        "# Baseado no Chi quadrado a variável deve ser removida \n",
        "reject_cT"
      ],
      "execution_count": 22,
      "outputs": [
        {
          "output_type": "execute_result",
          "data": {
            "text/plain": [
              "[]"
            ]
          },
          "metadata": {
            "tags": []
          },
          "execution_count": 22
        }
      ]
    },
    {
      "cell_type": "markdown",
      "metadata": {
        "id": "lLT5PCW93nop"
      },
      "source": [
        "Seleção de variável por random forest  from Random Forest Classifier"
      ]
    },
    {
      "cell_type": "code",
      "metadata": {
        "colab": {
          "base_uri": "https://localhost:8080/"
        },
        "id": "KVfd4_0Y3nop",
        "outputId": "d227b217-1892-4f8c-cc36-85d9aa3c295e"
      },
      "source": [
        "from sklearn.feature_selection import SelectFromModel\n",
        "from sklearn.ensemble import RandomForestClassifier\n",
        "\n",
        "features = numerical + categorical\n",
        "rf_sel = SelectFromModel(RandomForestClassifier(n_estimators = 100), threshold='median')\n",
        "rf_sel.fit(df_bal[features], df_bal['mau'])"
      ],
      "execution_count": 24,
      "outputs": [
        {
          "output_type": "execute_result",
          "data": {
            "text/plain": [
              "SelectFromModel(estimator=RandomForestClassifier(bootstrap=True, ccp_alpha=0.0,\n",
              "                                                 class_weight=None,\n",
              "                                                 criterion='gini',\n",
              "                                                 max_depth=None,\n",
              "                                                 max_features='auto',\n",
              "                                                 max_leaf_nodes=None,\n",
              "                                                 max_samples=None,\n",
              "                                                 min_impurity_decrease=0.0,\n",
              "                                                 min_impurity_split=None,\n",
              "                                                 min_samples_leaf=1,\n",
              "                                                 min_samples_split=2,\n",
              "                                                 min_weight_fraction_leaf=0.0,\n",
              "                                                 n_estimators=100, n_jobs=None,\n",
              "                                                 oob_score=False,\n",
              "                                                 random_state=None, verbose=0,\n",
              "                                                 warm_start=False),\n",
              "                max_features=None, norm_order=1, prefit=False,\n",
              "                threshold='median')"
            ]
          },
          "metadata": {
            "tags": []
          },
          "execution_count": 24
        }
      ]
    },
    {
      "cell_type": "code",
      "metadata": {
        "colab": {
          "base_uri": "https://localhost:8080/"
        },
        "id": "LJ-tPBgm3noq",
        "outputId": "9c45684b-f095-40c0-aad1-b7c31739ab91"
      },
      "source": [
        "random_forest_feat = df_bal[features].columns[rf_sel.get_support()]\n",
        "print(len(random_forest_feat))\n",
        "print(random_forest_feat)"
      ],
      "execution_count": 25,
      "outputs": [
        {
          "output_type": "stream",
          "text": [
            "4\n",
            "Index(['experiencia', 'debito_renda', 'cred_deb', 'mau'], dtype='object')\n"
          ],
          "name": "stdout"
        }
      ]
    },
    {
      "cell_type": "markdown",
      "metadata": {
        "id": "xVgQKNgB3noq"
      },
      "source": [
        "### 4) Seleção de variáveis utilizando  Gradient Boosting Classifier"
      ]
    },
    {
      "cell_type": "code",
      "metadata": {
        "colab": {
          "base_uri": "https://localhost:8080/"
        },
        "id": "Cx1njBBz3noq",
        "outputId": "c8404b0e-9e33-4eac-bfde-2b271fca8615"
      },
      "source": [
        "from sklearn.ensemble import GradientBoostingClassifier\n",
        "\n",
        "gb_sel = SelectFromModel(GradientBoostingClassifier(n_estimators = 100), threshold='median')\n",
        "gb_sel.fit(df_bal[features], df_bal['mau'])\n",
        "gradient_boost_feat = df_bal[features].columns[gb_sel.get_support()]\n",
        "print(len(gradient_boost_feat))\n",
        "print(gradient_boost_feat)"
      ],
      "execution_count": 26,
      "outputs": [
        {
          "output_type": "stream",
          "text": [
            "8\n",
            "Index(['idade', 'experiencia', 'tempo_endereco', 'renda', 'debito_renda',\n",
            "       'cred_deb', 'outros_debitos', 'mau'],\n",
            "      dtype='object')\n"
          ],
          "name": "stdout"
        }
      ]
    },
    {
      "cell_type": "code",
      "metadata": {
        "colab": {
          "base_uri": "https://localhost:8080/",
          "height": 299
        },
        "id": "k8Ce9j7k3nor",
        "outputId": "468375de-8f89-4e88-b65a-5bdac487b12d"
      },
      "source": [
        "finalselection.head(10)"
      ],
      "execution_count": 31,
      "outputs": [
        {
          "output_type": "execute_result",
          "data": {
            "text/html": [
              "<div>\n",
              "<style scoped>\n",
              "    .dataframe tbody tr th:only-of-type {\n",
              "        vertical-align: middle;\n",
              "    }\n",
              "\n",
              "    .dataframe tbody tr th {\n",
              "        vertical-align: top;\n",
              "    }\n",
              "\n",
              "    .dataframe thead th {\n",
              "        text-align: right;\n",
              "    }\n",
              "</style>\n",
              "<table border=\"1\" class=\"dataframe\">\n",
              "  <thead>\n",
              "    <tr style=\"text-align: right;\">\n",
              "      <th></th>\n",
              "      <th>variable</th>\n",
              "      <th>correlation</th>\n",
              "      <th>randomforest_select</th>\n",
              "      <th>gradientboost_select</th>\n",
              "    </tr>\n",
              "  </thead>\n",
              "  <tbody>\n",
              "    <tr>\n",
              "      <th>0</th>\n",
              "      <td>idade</td>\n",
              "      <td>1</td>\n",
              "      <td>0</td>\n",
              "      <td>1</td>\n",
              "    </tr>\n",
              "    <tr>\n",
              "      <th>1</th>\n",
              "      <td>experiencia</td>\n",
              "      <td>1</td>\n",
              "      <td>1</td>\n",
              "      <td>1</td>\n",
              "    </tr>\n",
              "    <tr>\n",
              "      <th>2</th>\n",
              "      <td>tempo_endereco</td>\n",
              "      <td>1</td>\n",
              "      <td>0</td>\n",
              "      <td>1</td>\n",
              "    </tr>\n",
              "    <tr>\n",
              "      <th>3</th>\n",
              "      <td>renda</td>\n",
              "      <td>1</td>\n",
              "      <td>0</td>\n",
              "      <td>1</td>\n",
              "    </tr>\n",
              "    <tr>\n",
              "      <th>4</th>\n",
              "      <td>debito_renda</td>\n",
              "      <td>1</td>\n",
              "      <td>1</td>\n",
              "      <td>1</td>\n",
              "    </tr>\n",
              "    <tr>\n",
              "      <th>5</th>\n",
              "      <td>cred_deb</td>\n",
              "      <td>1</td>\n",
              "      <td>1</td>\n",
              "      <td>1</td>\n",
              "    </tr>\n",
              "    <tr>\n",
              "      <th>6</th>\n",
              "      <td>outros_debitos</td>\n",
              "      <td>1</td>\n",
              "      <td>0</td>\n",
              "      <td>1</td>\n",
              "    </tr>\n",
              "    <tr>\n",
              "      <th>7</th>\n",
              "      <td>mau</td>\n",
              "      <td>1</td>\n",
              "      <td>1</td>\n",
              "      <td>1</td>\n",
              "    </tr>\n",
              "  </tbody>\n",
              "</table>\n",
              "</div>"
            ],
            "text/plain": [
              "         variable  correlation  randomforest_select  gradientboost_select\n",
              "0           idade            1                    0                     1\n",
              "1     experiencia            1                    1                     1\n",
              "2  tempo_endereco            1                    0                     1\n",
              "3           renda            1                    0                     1\n",
              "4    debito_renda            1                    1                     1\n",
              "5        cred_deb            1                    1                     1\n",
              "6  outros_debitos            1                    0                     1\n",
              "7             mau            1                    1                     1"
            ]
          },
          "metadata": {
            "tags": []
          },
          "execution_count": 31
        }
      ]
    },
    {
      "cell_type": "code",
      "metadata": {
        "colab": {
          "base_uri": "https://localhost:8080/"
        },
        "id": "m3ZXjHDl3nos",
        "outputId": "217f41dc-38d2-492c-865b-faefaea46e65"
      },
      "source": [
        "reduced_features =finalselection['variable'][finalselection['correlation'] == True].values\n",
        "print(len(reduced_features))\n",
        "reduced_features"
      ],
      "execution_count": 32,
      "outputs": [
        {
          "output_type": "stream",
          "text": [
            "8\n"
          ],
          "name": "stdout"
        },
        {
          "output_type": "execute_result",
          "data": {
            "text/plain": [
              "array(['idade', 'experiencia', 'tempo_endereco', 'renda', 'debito_renda',\n",
              "       'cred_deb', 'outros_debitos', 'mau'], dtype=object)"
            ]
          },
          "metadata": {
            "tags": []
          },
          "execution_count": 32
        }
      ]
    },
    {
      "cell_type": "code",
      "metadata": {
        "id": "yCGaVHMO3nou"
      },
      "source": [
        "from sklearn.decomposition import PCA"
      ],
      "execution_count": 33,
      "outputs": []
    },
    {
      "cell_type": "code",
      "metadata": {
        "id": "_LyVpfgw3nou"
      },
      "source": [
        "scaler = MinMaxScaler(feature_range=[0, 1])\n",
        "reduced_features_rescaled = scaler.fit_transform(df_bal[reduced_features])"
      ],
      "execution_count": 37,
      "outputs": []
    },
    {
      "cell_type": "code",
      "metadata": {
        "colab": {
          "base_uri": "https://localhost:8080/",
          "height": 301
        },
        "id": "ejeuCoej3nov",
        "outputId": "1c2967e1-31cb-4c55-fa05-5bd9ebe8ec3b"
      },
      "source": [
        "#Fitting the PCA algorithm with our Data\n",
        "pca = PCA().fit(reduced_features_rescaled)\n",
        "#Plotting the Cumulative Summation of the Explained Variance\n",
        "plt.figure()\n",
        "plt.plot(np.cumsum(pca.explained_variance_ratio_))\n",
        "plt.xlabel('Number of Components')\n",
        "plt.ylabel('Variance (%)') #for each component\n",
        "plt.title('Pulsar Dataset Explained Variance')\n",
        "plt.show()"
      ],
      "execution_count": 39,
      "outputs": [
        {
          "output_type": "display_data",
          "data": {
            "image/png": "[encoded data removed]",
            "text/plain": [
              "<Figure size 432x288 with 1 Axes>"
            ]
          },
          "metadata": {
            "tags": []
          }
        }
      ]
    },
    {
      "cell_type": "markdown",
      "metadata": {
        "id": "G89GFmwm3nov"
      },
      "source": [
        "#### Selecionar 4 componentes "
      ]
    },
    {
      "cell_type": "code",
      "metadata": {
        "id": "pPhAxVNT3nox"
      },
      "source": [
        "X = df\n",
        "y = df_bal['mau']"
      ],
      "execution_count": 49,
      "outputs": []
    },
    {
      "cell_type": "code",
      "metadata": {
        "colab": {
          "base_uri": "https://localhost:8080/"
        },
        "id": "Bz9uc9jXT0C3",
        "outputId": "1ddf5a1d-f65c-4e83-84e5-9d8f5a386776"
      },
      "source": [
        "# Implementação do modelo logístico precisa ser revisto pelo valor do threshold para avalição do valor de retorno \n",
        "from sklearn.model_selection import train_test_split\n",
        "from sklearn.linear_model import LogisticRegression\n",
        "\n",
        "\n",
        "x_basic = df\n",
        "y = df[\"mau\"]\n",
        "\n",
        "# Spliting the data into test and train sets\n",
        "x_basic_tr,x_basic_te,y_tr,y_te = train_test_split(x_basic,y,test_size =.33,random_state=1)\n",
        "logreg_basic = LogisticRegression()\n",
        "\n",
        "# Training the basic logistic regression model with training set \n",
        "logreg_basic.fit(x_basic_tr,y_tr)\n",
        "\n",
        "# Printing the coefficients\n",
        "print(\"intercept \")\n",
        "print(logreg_basic.intercept_)\n",
        "print(\"\")\n",
        "print(\"coefficients \")\n",
        "print(logreg_basic.coef_)\n",
        "\n",
        "# Predicting the output of the test cases using the algorithm created above\n",
        "y_pre = logreg_basic.predict(x_basic_te)\n",
        "\n",
        "# Validating the algorithm using various Performance metrics\n",
        "from sklearn.metrics import accuracy_score, f1_score, precision_score, recall_score\n",
        "print(\"\")\n",
        "a1 = accuracy_score(y_te,y_pre)\n",
        "f1 = f1_score(y_te, y_pre, average=\"macro\")\n",
        "p1 = precision_score(y_te, y_pre, average=\"macro\")\n",
        "r1 = recall_score(y_te, y_pre, average=\"macro\")\n",
        "print(\"accuracy score : \",a1)\n",
        "print(\"f1 score : \",f1)\n",
        "print(\"precision score : \",p1)\n",
        "print(\"recall score : \",r1)"
      ],
      "execution_count": 63,
      "outputs": [
        {
          "output_type": "stream",
          "text": [
            "intercept \n",
            "[-5.11722303]\n",
            "\n",
            "coefficients \n",
            "[[-2.25235811e-03 -9.88835095e-02 -5.20198521e-02 -1.08982378e-03\n",
            "   5.40466158e-02  2.12702313e-01  1.03384102e-02  9.47572161e+00]]\n",
            "\n",
            "accuracy score :  1.0\n",
            "f1 score :  1.0\n",
            "precision score :  1.0\n",
            "recall score :  1.0\n"
          ],
          "name": "stdout"
        }
      ]
    }
  ]
}